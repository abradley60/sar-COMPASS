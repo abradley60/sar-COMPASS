{
 "cells": [
  {
   "cell_type": "markdown",
   "metadata": {},
   "source": [
    "# Find Interferometry Pairs\n",
    "- A simple notebook to find interferometry pairs based on a scene name or specified location"
   ]
  },
  {
   "cell_type": "code",
   "execution_count": 2,
   "metadata": {},
   "outputs": [],
   "source": [
    "import asf_search"
   ]
  },
  {
   "cell_type": "code",
   "execution_count": 3,
   "metadata": {},
   "outputs": [],
   "source": [
    "# Either search by the scene/granule name or using a point\n",
    "SEARCH_BY_SCENE = True\n",
    "SEARCH_BY_POINT = False"
   ]
  },
  {
   "cell_type": "markdown",
   "metadata": {},
   "source": [
    "Search for the product using the asf_search API"
   ]
  },
  {
   "cell_type": "code",
   "execution_count": 4,
   "metadata": {},
   "outputs": [],
   "source": [
    "if SEARCH_BY_POINT:\n",
    "    wkt = \"POINT (150.5759 -27.0252)\" # Australia QLD Corner Reflector\n",
    "    prod = 'SLC'\n",
    "    mode = 'IW'\n",
    "    start_date = '2023-01-01T00:00:00Z'\n",
    "    end_date = '2023-12-31T00:00:00Z'\n",
    "    results = asf_search.search(platform=[asf_search.PLATFORM.SENTINEL1], \n",
    "                        intersectsWith=wkt, \n",
    "                        maxResults=1, \n",
    "                        processingLevel=prod,\n",
    "                        beamMode=mode,\n",
    "                        start=start_date,\n",
    "                        end=end_date,\n",
    "                        )\n",
    "    granule = results[0]\n",
    "\n",
    "if SEARCH_BY_SCENE:\n",
    "    scene = 'S1A_IW_SLC__1SDV_20190716T135159_20190716T135226_028143_032DC3_512B'\n",
    "    granule = asf_search.granule_search(scene)[0]"
   ]
  },
  {
   "cell_type": "markdown",
   "metadata": {},
   "source": [
    "Get the stack and associated insar pairs"
   ]
  },
  {
   "cell_type": "code",
   "execution_count": null,
   "metadata": {},
   "outputs": [],
   "source": [
    "# show the options for stack search for scene\n",
    "list(granule.get_stack_opts())"
   ]
  },
  {
   "cell_type": "code",
   "execution_count": 6,
   "metadata": {},
   "outputs": [],
   "source": [
    "stack = granule.stack()"
   ]
  },
  {
   "cell_type": "code",
   "execution_count": null,
   "metadata": {},
   "outputs": [],
   "source": [
    "# limit to within +- 24 days\n",
    "stack_results = list(reversed([item for item in stack if (item.properties['temporalBaseline'] > -25 and item.properties['temporalBaseline'] < 25)]))\n",
    "print(f'number of scenes : {len(stack_results)}')"
   ]
  },
  {
   "cell_type": "code",
   "execution_count": null,
   "metadata": {},
   "outputs": [],
   "source": [
    "for i,scene in enumerate(stack_results):\n",
    "    print(scene.properties['sceneName'],', ',\n",
    "        scene.properties['startTime'],', ',\n",
    "        scene.properties['temporalBaseline'],', ',\n",
    "        scene.properties['perpendicularBaseline'])"
   ]
  },
  {
   "cell_type": "code",
   "execution_count": null,
   "metadata": {},
   "outputs": [],
   "source": []
  }
 ],
 "metadata": {
  "kernelspec": {
   "display_name": "compass_isce3",
   "language": "python",
   "name": "python3"
  },
  "language_info": {
   "codemirror_mode": {
    "name": "ipython",
    "version": 3
   },
   "file_extension": ".py",
   "mimetype": "text/x-python",
   "name": "python",
   "nbconvert_exporter": "python",
   "pygments_lexer": "ipython3",
   "version": "3.12.7"
  }
 },
 "nbformat": 4,
 "nbformat_minor": 2
}
